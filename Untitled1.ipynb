{
  "nbformat": 4,
  "nbformat_minor": 0,
  "metadata": {
    "colab": {
      "name": "Untitled1.ipynb",
      "provenance": []
    },
    "kernelspec": {
      "name": "python3",
      "display_name": "Python 3"
    },
    "language_info": {
      "name": "python"
    }
  },
  "cells": [
    {
      "cell_type": "markdown",
      "metadata": {
        "id": "8GJwwbKEdAlu"
      },
      "source": [
        "Inventory Creation"
      ]
    },
    {
      "cell_type": "code",
      "metadata": {
        "id": "XoiDpLHhX9_u"
      },
      "source": [
        "best_store={\n",
        " 1001: {'brand': 'Pepsi',\n",
        "  'expiry': '20 oct 2023',\n",
        "  'name': 'Pepsi Can',\n",
        "  'price': 153,\n",
        "  'quan': 50},\n",
        " 1002: {'brand': 'Tata',\n",
        "  'expiry': '12 jan 2022',\n",
        "  'name': 'Tata Salt',\n",
        "  'price': 20,\n",
        "  'quan': 130},\n",
        " 1003: {'brand': 'Tata',\n",
        "  'expiry': '10 mar 2023',\n",
        "  'name': 'Tata Tea Gold',\n",
        "  'price': 48,\n",
        "  'quan': 145},\n",
        " 1004: {'brand': 'Tata',\n",
        "  'expiry': '23 jun 2023',\n",
        "  'name': 'Turmeric Powder',\n",
        "  'price': 52,\n",
        "  'quan': 122},\n",
        " 1005: {'brand': 'Quaker',\n",
        "  'expiry': '30 oct 2022',\n",
        "  'name': 'Quaker Oats',\n",
        "  'price': 285,\n",
        "  'quan': 30},\n",
        " 1006: {'brand': 'Saffola',\n",
        "  'expiry': '29 jan 2022',\n",
        "  'name': 'Saffola Active',\n",
        "  'price': 207,\n",
        "  'quan': 58},\n",
        " 1007: {'brand': 'Nestle',\n",
        "  'expiry': '31 aug 2022',\n",
        "  'name': 'Kitkat Desert',\n",
        "  'price': 55,\n",
        "  'quan': 59},\n",
        " 1008: {'brand': 'Dark Fantasy',\n",
        "  'expiry': '21 feb 2022',\n",
        "  'name': 'Dark Fantasy Choco Fills',\n",
        "  'price': 90,\n",
        "  'quan': 90},\n",
        " 1009: {'brand': 'Candyman Fantastik',\n",
        "  'expiry': '28 dec 2021',\n",
        "  'name': 'Candyman Fantasy',\n",
        "  'price': 80,\n",
        "  'quan': 95},\n",
        " 1010: {'brand': 'Lotte',\n",
        "  'expiry': '01 jun 2022',\n",
        "  'name': 'Lotte Choco Pie',\n",
        "  'price': 110,\n",
        "  'quan': 95},\n",
        " 1011: {'brand': 'Britania',\n",
        "  'expiry': '15 jul 2022',\n",
        "  'name': 'Britania Chocolate cake',\n",
        "  'price': 120,\n",
        "  'quan': 100},\n",
        " 1012: {'brand': 'Pillsbury',\n",
        "  'expiry': '02 dec 2021',\n",
        "  'name': 'Pillsbury cookes cake',\n",
        "  'price': 90,\n",
        "  'quan': 200},\n",
        " 1013: {'brand': 'Ore0',\n",
        "  'expiry': '30 dec 2021',\n",
        "  'name': 'Kraft Oreo Soft Cake',\n",
        "  'price': 249,\n",
        "  'quan': 120},\n",
        " 1014: {'brand': 'Sunfeast',\n",
        "  'expiry': '19 mar 2022',\n",
        "  'name': \"Mom's Magic Cashew\",\n",
        "  'price': 80,\n",
        "  'quan': 180},\n",
        " 1015: {'brand': 'Cadbury',\n",
        "  'expiry': '19 feb 2022',\n",
        "  'name': 'Cadbury Oreo chacolate',\n",
        "  'price': 60,\n",
        "  'quan': 185},\n",
        " 1016: {'brand': 'Betty Croker',\n",
        "  'expiry': '15 jan 2022',\n",
        "  'name': 'Betty Croker Pancake',\n",
        "  'price': 346,\n",
        "  'quan': 190},\n",
        " 1017: {'brand': 'Parle',\n",
        "  'expiry': '13 dec 2011',\n",
        "  'name': 'Parle G Original',\n",
        "  'price': 67,\n",
        "  'quan': 140},\n",
        " 1018: {'brand': \"Lay's\",\n",
        "  'expiry': '14 feb 2023',\n",
        "  'name': 'Lays Potato Chips',\n",
        "  'price': 30,\n",
        "  'quan': 450},\n",
        " 1019: {'brand': 'Bingo!',\n",
        "  'expiry': '20 dec 2023',\n",
        "  'name': 'Bingo! Mad Angle',\n",
        "  'price': 25,\n",
        "  'quan': 440},\n",
        " 1020: {'brand': \"Kellog's\",\n",
        "  'expiry': '25 jan 2024',\n",
        "  'name': \"Kellogg's pringles\",\n",
        "  'price': 85,\n",
        "  'quan': 400},\n",
        " 1021: {'brand': \"Dorito's\",\n",
        "  'expiry': '22 jan 2023',\n",
        "  'name': \"Dorito's Nacho Chips\",\n",
        "  'price': 90,\n",
        "  'quan': 360},\n",
        " 1022: {'brand': 'Thums Up',\n",
        "  'expiry': '20 dec 2024',\n",
        "  'name': 'Thums Up Soft Drink',\n",
        "  'price': 40,\n",
        "  'quan': 60},\n",
        " 1023: {'brand': 'Svami',\n",
        "  'expiry': '20 jun 2023',\n",
        "  'name': 'Svami Soda Water',\n",
        "  'price': 55,\n",
        "  'quan': 70},\n",
        " 1024: {'brand': 'Coca Cola',\n",
        "  'expiry': '22 jul 2023',\n",
        "  'name': 'Coca-Cola',\n",
        "  'price': 65,\n",
        "  'quan': 60},\n",
        " 1025: {'brand': 'Sprite',\n",
        "  'expiry': '20 nov 2023',\n",
        "  'name': 'Sprite Lime Flavor',\n",
        "  'price': 89,\n",
        "  'quan': 40},\n",
        " 1026: {'brand': 'Colgate',\n",
        "  'expiry': '20 jun 2024',\n",
        "  'name': 'Colgate Maxfresh',\n",
        "  'price': 215,\n",
        "  'quan': 55},\n",
        " 1027: {'brand': 'Pepsodent',\n",
        "  'expiry': '15 jul 2022',\n",
        "  'name': 'Pepsodent Gum Care',\n",
        "  'price': 300,\n",
        "  'quan': 150},\n",
        " 1028: {'brand': 'DABUR',\n",
        "  'expiry': '10 aug 2024',\n",
        "  'name': 'Dabur Amla Hair Oil',\n",
        "  'price': 247,\n",
        "  'quan': 100},\n",
        " 1029: {'brand': 'Nivea',\n",
        "  'expiry': '31 jul 2022',\n",
        "  'name': 'Nivea Men Face Wash',\n",
        "  'price': 149,\n",
        "  'quan': 98},\n",
        " 1030: {'brand': 'Himalaya',\n",
        "  'expiry': '22 may 2022',\n",
        "  'name': 'Himalaya Herbal Face wash',\n",
        "  'price': 104,\n",
        "  'quan': 200},\n",
        " 1031: {'brand': 'Himalaya',\n",
        "  'expiry': '31 may 2024',\n",
        "  'name': 'Himalaya Baby Powder',\n",
        "  'price': 243,\n",
        "  'quan': 150},\n",
        " 1032: {'brand': 'Nivea',\n",
        "  'expiry': '31 may 2024',\n",
        "  'name': 'Nivea Talcum Powder',\n",
        "  'price': 199,\n",
        "  'quan': 120},\n",
        " 1033: {'brand': 'FOGG',\n",
        "  'expiry': '01 jan 2024',\n",
        "  'name': 'Fogg Xtremo Scent',\n",
        "  'price': 299,\n",
        "  'quan': 155},\n",
        " 1034: {'brand': 'Villian',\n",
        "  'expiry': '31 may 2024',\n",
        "  'name': 'Villain Perfume men',\n",
        "  'price': 555,\n",
        "  'quan': 230},\n",
        " 1035: {'brand': 'Cadbury',\n",
        "  'expiry': '31 jan 2022',\n",
        "  'name': 'Dairy Milk Silk',\n",
        "  'price': 475,\n",
        "  'quan': 50}\n",
        "}"
      ],
      "execution_count": 4,
      "outputs": []
    },
    {
      "cell_type": "code",
      "metadata": {
        "colab": {
          "base_uri": "https://localhost:8080/"
        },
        "id": "PAdGT6ZDYtcp",
        "outputId": "c5607381-06c3-46a4-ddf5-73ad14531622"
      },
      "source": [
        "best_store"
      ],
      "execution_count": 5,
      "outputs": [
        {
          "output_type": "execute_result",
          "data": {
            "text/plain": [
              "{1001: {'brand': 'Pepsi',\n",
              "  'expiry': '20 oct 2023',\n",
              "  'name': 'Pepsi Can',\n",
              "  'price': 153,\n",
              "  'quan': 50},\n",
              " 1002: {'brand': 'Tata',\n",
              "  'expiry': '12 jan 2022',\n",
              "  'name': 'Tata Salt',\n",
              "  'price': 20,\n",
              "  'quan': 130},\n",
              " 1003: {'brand': 'Tata',\n",
              "  'expiry': '10 mar 2023',\n",
              "  'name': 'Tata Tea Gold',\n",
              "  'price': 48,\n",
              "  'quan': 145},\n",
              " 1004: {'brand': 'Tata',\n",
              "  'expiry': '23 jun 2023',\n",
              "  'name': 'Turmeric Powder',\n",
              "  'price': 52,\n",
              "  'quan': 122},\n",
              " 1005: {'brand': 'Quaker',\n",
              "  'expiry': '30 oct 2022',\n",
              "  'name': 'Quaker Oats',\n",
              "  'price': 285,\n",
              "  'quan': 30},\n",
              " 1006: {'brand': 'Saffola',\n",
              "  'expiry': '29 jan 2022',\n",
              "  'name': 'Saffola Active',\n",
              "  'price': 207,\n",
              "  'quan': 58},\n",
              " 1007: {'brand': 'Nestle',\n",
              "  'expiry': '31 aug 2022',\n",
              "  'name': 'Kitkat Desert',\n",
              "  'price': 55,\n",
              "  'quan': 59},\n",
              " 1008: {'brand': 'Dark Fantasy',\n",
              "  'expiry': '21 feb 2022',\n",
              "  'name': 'Dark Fantasy Choco Fills',\n",
              "  'price': 90,\n",
              "  'quan': 90},\n",
              " 1009: {'brand': 'Candyman Fantastik',\n",
              "  'expiry': '28 dec 2021',\n",
              "  'name': 'Candyman Fantasy',\n",
              "  'price': 80,\n",
              "  'quan': 95},\n",
              " 1010: {'brand': 'Lotte',\n",
              "  'expiry': '01 jun 2022',\n",
              "  'name': 'Lotte Choco Pie',\n",
              "  'price': 110,\n",
              "  'quan': 95},\n",
              " 1011: {'brand': 'Britania',\n",
              "  'expiry': '15 jul 2022',\n",
              "  'name': 'Britania Chocolate cake',\n",
              "  'price': 120,\n",
              "  'quan': 100},\n",
              " 1012: {'brand': 'Pillsbury',\n",
              "  'expiry': '02 dec 2021',\n",
              "  'name': 'Pillsbury cookes cake',\n",
              "  'price': 90,\n",
              "  'quan': 200},\n",
              " 1013: {'brand': 'Ore0',\n",
              "  'expiry': '30 dec 2021',\n",
              "  'name': 'Kraft Oreo Soft Cake',\n",
              "  'price': 249,\n",
              "  'quan': 120},\n",
              " 1014: {'brand': 'Sunfeast',\n",
              "  'expiry': '19 mar 2022',\n",
              "  'name': \"Mom's Magic Cashew\",\n",
              "  'price': 80,\n",
              "  'quan': 180},\n",
              " 1015: {'brand': 'Cadbury',\n",
              "  'expiry': '19 feb 2022',\n",
              "  'name': 'Cadbury Oreo chacolate',\n",
              "  'price': 60,\n",
              "  'quan': 185},\n",
              " 1016: {'brand': 'Betty Croker',\n",
              "  'expiry': '15 jan 2022',\n",
              "  'name': 'Betty Croker Pancake',\n",
              "  'price': 346,\n",
              "  'quan': 190},\n",
              " 1017: {'brand': 'Parle',\n",
              "  'expiry': '13 dec 2011',\n",
              "  'name': 'Parle G Original',\n",
              "  'price': 67,\n",
              "  'quan': 140},\n",
              " 1018: {'brand': \"Lay's\",\n",
              "  'expiry': '14 feb 2023',\n",
              "  'name': 'Lays Potato Chips',\n",
              "  'price': 30,\n",
              "  'quan': 450},\n",
              " 1019: {'brand': 'Bingo!',\n",
              "  'expiry': '20 dec 2023',\n",
              "  'name': 'Bingo! Mad Angle',\n",
              "  'price': 25,\n",
              "  'quan': 440},\n",
              " 1020: {'brand': \"Kellog's\",\n",
              "  'expiry': '25 jan 2024',\n",
              "  'name': \"Kellogg's pringles\",\n",
              "  'price': 85,\n",
              "  'quan': 400},\n",
              " 1021: {'brand': \"Dorito's\",\n",
              "  'expiry': '22 jan 2023',\n",
              "  'name': \"Dorito's Nacho Chips\",\n",
              "  'price': 90,\n",
              "  'quan': 360},\n",
              " 1022: {'brand': 'Thums Up',\n",
              "  'expiry': '20 dec 2024',\n",
              "  'name': 'Thums Up Soft Drink',\n",
              "  'price': 40,\n",
              "  'quan': 60},\n",
              " 1023: {'brand': 'Svami',\n",
              "  'expiry': '20 jun 2023',\n",
              "  'name': 'Svami Soda Water',\n",
              "  'price': 55,\n",
              "  'quan': 70},\n",
              " 1024: {'brand': 'Coca Cola',\n",
              "  'expiry': '22 jul 2023',\n",
              "  'name': 'Coca-Cola',\n",
              "  'price': 65,\n",
              "  'quan': 60},\n",
              " 1025: {'brand': 'Sprite',\n",
              "  'expiry': '20 nov 2023',\n",
              "  'name': 'Sprite Lime Flavor',\n",
              "  'price': 89,\n",
              "  'quan': 40},\n",
              " 1026: {'brand': 'Colgate',\n",
              "  'expiry': '20 jun 2024',\n",
              "  'name': 'Colgate Maxfresh',\n",
              "  'price': 215,\n",
              "  'quan': 55},\n",
              " 1027: {'brand': 'Pepsodent',\n",
              "  'expiry': '15 jul 2022',\n",
              "  'name': 'Pepsodent Gum Care',\n",
              "  'price': 300,\n",
              "  'quan': 150},\n",
              " 1028: {'brand': 'DABUR',\n",
              "  'expiry': '10 aug 2024',\n",
              "  'name': 'Dabur Amla Hair Oil',\n",
              "  'price': 247,\n",
              "  'quan': 100},\n",
              " 1029: {'brand': 'Nivea',\n",
              "  'expiry': '31 jul 2022',\n",
              "  'name': 'Nivea Men Face Wash',\n",
              "  'price': 149,\n",
              "  'quan': 98},\n",
              " 1030: {'brand': 'Himalaya',\n",
              "  'expiry': '22 may 2022',\n",
              "  'name': 'Himalaya Herbal Face wash',\n",
              "  'price': 104,\n",
              "  'quan': 200},\n",
              " 1031: {'brand': 'Himalaya',\n",
              "  'expiry': '31 may 2024',\n",
              "  'name': 'Himalaya Baby Powder',\n",
              "  'price': 243,\n",
              "  'quan': 150},\n",
              " 1032: {'brand': 'Nivea',\n",
              "  'expiry': '31 may 2024',\n",
              "  'name': 'Nivea Talcum Powder',\n",
              "  'price': 199,\n",
              "  'quan': 120},\n",
              " 1033: {'brand': 'FOGG',\n",
              "  'expiry': '01 jan 2024',\n",
              "  'name': 'Fogg Xtremo Scent',\n",
              "  'price': 299,\n",
              "  'quan': 155},\n",
              " 1034: {'brand': 'Villian',\n",
              "  'expiry': '31 may 2024',\n",
              "  'name': 'Villain Perfume men',\n",
              "  'price': 555,\n",
              "  'quan': 230},\n",
              " 1035: {'brand': 'Cadbury',\n",
              "  'expiry': '31 jan 2022',\n",
              "  'name': 'Dairy Milk Silk',\n",
              "  'price': 475,\n",
              "  'quan': 50}}"
            ]
          },
          "metadata": {},
          "execution_count": 5
        }
      ]
    },
    {
      "cell_type": "code",
      "metadata": {
        "colab": {
          "base_uri": "https://localhost:8080/"
        },
        "id": "Uzwki5KDY0-j",
        "outputId": "e04206b1-6080-48ac-c252-5783f1e8bece"
      },
      "source": [
        "type(best_store)"
      ],
      "execution_count": 6,
      "outputs": [
        {
          "output_type": "execute_result",
          "data": {
            "text/plain": [
              "dict"
            ]
          },
          "metadata": {},
          "execution_count": 6
        }
      ]
    },
    {
      "cell_type": "code",
      "metadata": {
        "id": "pUc27w9nY-rZ"
      },
      "source": [
        "import json\n"
      ],
      "execution_count": 8,
      "outputs": []
    },
    {
      "cell_type": "code",
      "metadata": {
        "id": "VZik-b-FZOY1"
      },
      "source": [
        "data = json.dumps(best_store)\n",
        "\n",
        "fp = open(\"records.txt\", \"w\")\n",
        "fp.write(data)\n",
        "fp.close()"
      ],
      "execution_count": 9,
      "outputs": []
    },
    {
      "cell_type": "code",
      "metadata": {
        "colab": {
          "base_uri": "https://localhost:8080/"
        },
        "id": "pKjSZ9QoZUVR",
        "outputId": "abd31910-9f45-40c5-83e6-ac1dd8dfd116"
      },
      "source": [
        "type(data)"
      ],
      "execution_count": 10,
      "outputs": [
        {
          "output_type": "execute_result",
          "data": {
            "text/plain": [
              "str"
            ]
          },
          "metadata": {},
          "execution_count": 10
        }
      ]
    },
    {
      "cell_type": "code",
      "metadata": {
        "colab": {
          "base_uri": "https://localhost:8080/",
          "height": 103
        },
        "id": "rdhjqBX8ZYKD",
        "outputId": "d58a52fa-a73a-4d81-8ef9-3401a206d02c"
      },
      "source": [
        "data"
      ],
      "execution_count": 11,
      "outputs": [
        {
          "output_type": "execute_result",
          "data": {
            "application/vnd.google.colaboratory.intrinsic+json": {
              "type": "string"
            },
            "text/plain": [
              "'{\"1001\": {\"brand\": \"Pepsi\", \"expiry\": \"20 oct 2023\", \"name\": \"Pepsi Can\", \"price\": 153, \"quan\": 50}, \"1002\": {\"brand\": \"Tata\", \"expiry\": \"12 jan 2022\", \"name\": \"Tata Salt\", \"price\": 20, \"quan\": 130}, \"1003\": {\"brand\": \"Tata\", \"expiry\": \"10 mar 2023\", \"name\": \"Tata Tea Gold\", \"price\": 48, \"quan\": 145}, \"1004\": {\"brand\": \"Tata\", \"expiry\": \"23 jun 2023\", \"name\": \"Turmeric Powder\", \"price\": 52, \"quan\": 122}, \"1005\": {\"brand\": \"Quaker\", \"expiry\": \"30 oct 2022\", \"name\": \"Quaker Oats\", \"price\": 285, \"quan\": 30}, \"1006\": {\"brand\": \"Saffola\", \"expiry\": \"29 jan 2022\", \"name\": \"Saffola Active\", \"price\": 207, \"quan\": 58}, \"1007\": {\"brand\": \"Nestle\", \"expiry\": \"31 aug 2022\", \"name\": \"Kitkat Desert\", \"price\": 55, \"quan\": 59}, \"1008\": {\"brand\": \"Dark Fantasy\", \"expiry\": \"21 feb 2022\", \"name\": \"Dark Fantasy Choco Fills\", \"price\": 90, \"quan\": 90}, \"1009\": {\"brand\": \"Candyman Fantastik\", \"expiry\": \"28 dec 2021\", \"name\": \"Candyman Fantasy\", \"price\": 80, \"quan\": 95}, \"1010\": {\"brand\": \"Lotte\", \"expiry\": \"01 jun 2022\", \"name\": \"Lotte Choco Pie\", \"price\": 110, \"quan\": 95}, \"1011\": {\"brand\": \"Britania\", \"expiry\": \"15 jul 2022\", \"name\": \"Britania Chocolate cake\", \"price\": 120, \"quan\": 100}, \"1012\": {\"brand\": \"Pillsbury\", \"expiry\": \"02 dec 2021\", \"name\": \"Pillsbury cookes cake\", \"price\": 90, \"quan\": 200}, \"1013\": {\"brand\": \"Ore0\", \"expiry\": \"30 dec 2021\", \"name\": \"Kraft Oreo Soft Cake\", \"price\": 249, \"quan\": 120}, \"1014\": {\"brand\": \"Sunfeast\", \"expiry\": \"19 mar 2022\", \"name\": \"Mom\\'s Magic Cashew\", \"price\": 80, \"quan\": 180}, \"1015\": {\"brand\": \"Cadbury\", \"expiry\": \"19 feb 2022\", \"name\": \"Cadbury Oreo chacolate\", \"price\": 60, \"quan\": 185}, \"1016\": {\"brand\": \"Betty Croker\", \"expiry\": \"15 jan 2022\", \"name\": \"Betty Croker Pancake\", \"price\": 346, \"quan\": 190}, \"1017\": {\"brand\": \"Parle\", \"expiry\": \"13 dec 2011\", \"name\": \"Parle G Original\", \"price\": 67, \"quan\": 140}, \"1018\": {\"brand\": \"Lay\\'s\", \"expiry\": \"14 feb 2023\", \"name\": \"Lays Potato Chips\", \"price\": 30, \"quan\": 450}, \"1019\": {\"brand\": \"Bingo!\", \"expiry\": \"20 dec 2023\", \"name\": \"Bingo! Mad Angle\", \"price\": 25, \"quan\": 440}, \"1020\": {\"brand\": \"Kellog\\'s\", \"expiry\": \"25 jan 2024\", \"name\": \"Kellogg\\'s pringles\", \"price\": 85, \"quan\": 400}, \"1021\": {\"brand\": \"Dorito\\'s\", \"expiry\": \"22 jan 2023\", \"name\": \"Dorito\\'s Nacho Chips\", \"price\": 90, \"quan\": 360}, \"1022\": {\"brand\": \"Thums Up\", \"expiry\": \"20 dec 2024\", \"name\": \"Thums Up Soft Drink\", \"price\": 40, \"quan\": 60}, \"1023\": {\"brand\": \"Svami\", \"expiry\": \"20 jun 2023\", \"name\": \"Svami Soda Water\", \"price\": 55, \"quan\": 70}, \"1024\": {\"brand\": \"Coca Cola\", \"expiry\": \"22 jul 2023\", \"name\": \"Coca-Cola\", \"price\": 65, \"quan\": 60}, \"1025\": {\"brand\": \"Sprite\", \"expiry\": \"20 nov 2023\", \"name\": \"Sprite Lime Flavor\", \"price\": 89, \"quan\": 40}, \"1026\": {\"brand\": \"Colgate\", \"expiry\": \"20 jun 2024\", \"name\": \"Colgate Maxfresh\", \"price\": 215, \"quan\": 55}, \"1027\": {\"brand\": \"Pepsodent\", \"expiry\": \"15 jul 2022\", \"name\": \"Pepsodent Gum Care\", \"price\": 300, \"quan\": 150}, \"1028\": {\"brand\": \"DABUR\", \"expiry\": \"10 aug 2024\", \"name\": \"Dabur Amla Hair Oil\", \"price\": 247, \"quan\": 100}, \"1029\": {\"brand\": \"Nivea\", \"expiry\": \"31 jul 2022\", \"name\": \"Nivea Men Face Wash\", \"price\": 149, \"quan\": 98}, \"1030\": {\"brand\": \"Himalaya\", \"expiry\": \"22 may 2022\", \"name\": \"Himalaya Herbal Face wash\", \"price\": 104, \"quan\": 200}, \"1031\": {\"brand\": \"Himalaya\", \"expiry\": \"31 may 2024\", \"name\": \"Himalaya Baby Powder\", \"price\": 243, \"quan\": 150}, \"1032\": {\"brand\": \"Nivea\", \"expiry\": \"31 may 2024\", \"name\": \"Nivea Talcum Powder\", \"price\": 199, \"quan\": 120}, \"1033\": {\"brand\": \"FOGG\", \"expiry\": \"01 jan 2024\", \"name\": \"Fogg Xtremo Scent\", \"price\": 299, \"quan\": 155}, \"1034\": {\"brand\": \"Villian\", \"expiry\": \"31 may 2024\", \"name\": \"Villain Perfume men\", \"price\": 555, \"quan\": 230}, \"1035\": {\"brand\": \"Cadbury\", \"expiry\": \"31 jan 2022\", \"name\": \"Dairy Milk Silk\", \"price\": 475, \"quan\": 50}}'"
            ]
          },
          "metadata": {},
          "execution_count": 11
        }
      ]
    },
    {
      "cell_type": "markdown",
      "metadata": {
        "id": "4eqeVqEqdaIf"
      },
      "source": [
        "Read Data From JSON"
      ]
    },
    {
      "cell_type": "code",
      "metadata": {
        "id": "FRBq86ygZbxM"
      },
      "source": [
        "fp = open(\"records.txt\", \"r\")\n",
        "txt = fp.read()\n",
        "fp.close()"
      ],
      "execution_count": 12,
      "outputs": []
    },
    {
      "cell_type": "code",
      "metadata": {
        "colab": {
          "base_uri": "https://localhost:8080/",
          "height": 103
        },
        "id": "O-Id63tPZeTI",
        "outputId": "1212ceed-3e71-4f3b-b635-a3a3be34d922"
      },
      "source": [
        "txt\n"
      ],
      "execution_count": 13,
      "outputs": [
        {
          "output_type": "execute_result",
          "data": {
            "application/vnd.google.colaboratory.intrinsic+json": {
              "type": "string"
            },
            "text/plain": [
              "'{\"1001\": {\"brand\": \"Pepsi\", \"expiry\": \"20 oct 2023\", \"name\": \"Pepsi Can\", \"price\": 153, \"quan\": 50}, \"1002\": {\"brand\": \"Tata\", \"expiry\": \"12 jan 2022\", \"name\": \"Tata Salt\", \"price\": 20, \"quan\": 130}, \"1003\": {\"brand\": \"Tata\", \"expiry\": \"10 mar 2023\", \"name\": \"Tata Tea Gold\", \"price\": 48, \"quan\": 145}, \"1004\": {\"brand\": \"Tata\", \"expiry\": \"23 jun 2023\", \"name\": \"Turmeric Powder\", \"price\": 52, \"quan\": 122}, \"1005\": {\"brand\": \"Quaker\", \"expiry\": \"30 oct 2022\", \"name\": \"Quaker Oats\", \"price\": 285, \"quan\": 30}, \"1006\": {\"brand\": \"Saffola\", \"expiry\": \"29 jan 2022\", \"name\": \"Saffola Active\", \"price\": 207, \"quan\": 58}, \"1007\": {\"brand\": \"Nestle\", \"expiry\": \"31 aug 2022\", \"name\": \"Kitkat Desert\", \"price\": 55, \"quan\": 59}, \"1008\": {\"brand\": \"Dark Fantasy\", \"expiry\": \"21 feb 2022\", \"name\": \"Dark Fantasy Choco Fills\", \"price\": 90, \"quan\": 90}, \"1009\": {\"brand\": \"Candyman Fantastik\", \"expiry\": \"28 dec 2021\", \"name\": \"Candyman Fantasy\", \"price\": 80, \"quan\": 95}, \"1010\": {\"brand\": \"Lotte\", \"expiry\": \"01 jun 2022\", \"name\": \"Lotte Choco Pie\", \"price\": 110, \"quan\": 95}, \"1011\": {\"brand\": \"Britania\", \"expiry\": \"15 jul 2022\", \"name\": \"Britania Chocolate cake\", \"price\": 120, \"quan\": 100}, \"1012\": {\"brand\": \"Pillsbury\", \"expiry\": \"02 dec 2021\", \"name\": \"Pillsbury cookes cake\", \"price\": 90, \"quan\": 200}, \"1013\": {\"brand\": \"Ore0\", \"expiry\": \"30 dec 2021\", \"name\": \"Kraft Oreo Soft Cake\", \"price\": 249, \"quan\": 120}, \"1014\": {\"brand\": \"Sunfeast\", \"expiry\": \"19 mar 2022\", \"name\": \"Mom\\'s Magic Cashew\", \"price\": 80, \"quan\": 180}, \"1015\": {\"brand\": \"Cadbury\", \"expiry\": \"19 feb 2022\", \"name\": \"Cadbury Oreo chacolate\", \"price\": 60, \"quan\": 185}, \"1016\": {\"brand\": \"Betty Croker\", \"expiry\": \"15 jan 2022\", \"name\": \"Betty Croker Pancake\", \"price\": 346, \"quan\": 190}, \"1017\": {\"brand\": \"Parle\", \"expiry\": \"13 dec 2011\", \"name\": \"Parle G Original\", \"price\": 67, \"quan\": 140}, \"1018\": {\"brand\": \"Lay\\'s\", \"expiry\": \"14 feb 2023\", \"name\": \"Lays Potato Chips\", \"price\": 30, \"quan\": 450}, \"1019\": {\"brand\": \"Bingo!\", \"expiry\": \"20 dec 2023\", \"name\": \"Bingo! Mad Angle\", \"price\": 25, \"quan\": 440}, \"1020\": {\"brand\": \"Kellog\\'s\", \"expiry\": \"25 jan 2024\", \"name\": \"Kellogg\\'s pringles\", \"price\": 85, \"quan\": 400}, \"1021\": {\"brand\": \"Dorito\\'s\", \"expiry\": \"22 jan 2023\", \"name\": \"Dorito\\'s Nacho Chips\", \"price\": 90, \"quan\": 360}, \"1022\": {\"brand\": \"Thums Up\", \"expiry\": \"20 dec 2024\", \"name\": \"Thums Up Soft Drink\", \"price\": 40, \"quan\": 60}, \"1023\": {\"brand\": \"Svami\", \"expiry\": \"20 jun 2023\", \"name\": \"Svami Soda Water\", \"price\": 55, \"quan\": 70}, \"1024\": {\"brand\": \"Coca Cola\", \"expiry\": \"22 jul 2023\", \"name\": \"Coca-Cola\", \"price\": 65, \"quan\": 60}, \"1025\": {\"brand\": \"Sprite\", \"expiry\": \"20 nov 2023\", \"name\": \"Sprite Lime Flavor\", \"price\": 89, \"quan\": 40}, \"1026\": {\"brand\": \"Colgate\", \"expiry\": \"20 jun 2024\", \"name\": \"Colgate Maxfresh\", \"price\": 215, \"quan\": 55}, \"1027\": {\"brand\": \"Pepsodent\", \"expiry\": \"15 jul 2022\", \"name\": \"Pepsodent Gum Care\", \"price\": 300, \"quan\": 150}, \"1028\": {\"brand\": \"DABUR\", \"expiry\": \"10 aug 2024\", \"name\": \"Dabur Amla Hair Oil\", \"price\": 247, \"quan\": 100}, \"1029\": {\"brand\": \"Nivea\", \"expiry\": \"31 jul 2022\", \"name\": \"Nivea Men Face Wash\", \"price\": 149, \"quan\": 98}, \"1030\": {\"brand\": \"Himalaya\", \"expiry\": \"22 may 2022\", \"name\": \"Himalaya Herbal Face wash\", \"price\": 104, \"quan\": 200}, \"1031\": {\"brand\": \"Himalaya\", \"expiry\": \"31 may 2024\", \"name\": \"Himalaya Baby Powder\", \"price\": 243, \"quan\": 150}, \"1032\": {\"brand\": \"Nivea\", \"expiry\": \"31 may 2024\", \"name\": \"Nivea Talcum Powder\", \"price\": 199, \"quan\": 120}, \"1033\": {\"brand\": \"FOGG\", \"expiry\": \"01 jan 2024\", \"name\": \"Fogg Xtremo Scent\", \"price\": 299, \"quan\": 155}, \"1034\": {\"brand\": \"Villian\", \"expiry\": \"31 may 2024\", \"name\": \"Villain Perfume men\", \"price\": 555, \"quan\": 230}, \"1035\": {\"brand\": \"Cadbury\", \"expiry\": \"31 jan 2022\", \"name\": \"Dairy Milk Silk\", \"price\": 475, \"quan\": 50}}'"
            ]
          },
          "metadata": {},
          "execution_count": 13
        }
      ]
    },
    {
      "cell_type": "code",
      "metadata": {
        "colab": {
          "base_uri": "https://localhost:8080/"
        },
        "id": "tWUKO7reZgdb",
        "outputId": "a44ad82f-6775-49bb-943b-6c03e2127cf4"
      },
      "source": [
        "best_store[1030]"
      ],
      "execution_count": 17,
      "outputs": [
        {
          "output_type": "execute_result",
          "data": {
            "text/plain": [
              "{'brand': 'Himalaya',\n",
              " 'expiry': '22 may 2022',\n",
              " 'name': 'Himalaya Herbal Face wash',\n",
              " 'price': 104,\n",
              " 'quan': 200}"
            ]
          },
          "metadata": {},
          "execution_count": 17
        }
      ]
    },
    {
      "cell_type": "code",
      "metadata": {
        "colab": {
          "base_uri": "https://localhost:8080/"
        },
        "id": "97C5cArYZ2nl",
        "outputId": "5129c1c5-f490-4e1f-8e49-5153a8164cea"
      },
      "source": [
        "type(txt)\n"
      ],
      "execution_count": 18,
      "outputs": [
        {
          "output_type": "execute_result",
          "data": {
            "text/plain": [
              "str"
            ]
          },
          "metadata": {},
          "execution_count": 18
        }
      ]
    },
    {
      "cell_type": "code",
      "metadata": {
        "id": "gvkwyYfHZ7IL"
      },
      "source": [
        "best_store[1009]['quan']= 50"
      ],
      "execution_count": 19,
      "outputs": []
    },
    {
      "cell_type": "code",
      "metadata": {
        "colab": {
          "base_uri": "https://localhost:8080/"
        },
        "id": "OZE5ce_7aRXS",
        "outputId": "d9c893b3-f435-4dec-90a7-ab5c3db2aebd"
      },
      "source": [
        "best_store"
      ],
      "execution_count": 20,
      "outputs": [
        {
          "output_type": "execute_result",
          "data": {
            "text/plain": [
              "{1001: {'brand': 'Pepsi',\n",
              "  'expiry': '20 oct 2023',\n",
              "  'name': 'Pepsi Can',\n",
              "  'price': 153,\n",
              "  'quan': 50},\n",
              " 1002: {'brand': 'Tata',\n",
              "  'expiry': '12 jan 2022',\n",
              "  'name': 'Tata Salt',\n",
              "  'price': 20,\n",
              "  'quan': 130},\n",
              " 1003: {'brand': 'Tata',\n",
              "  'expiry': '10 mar 2023',\n",
              "  'name': 'Tata Tea Gold',\n",
              "  'price': 48,\n",
              "  'quan': 145},\n",
              " 1004: {'brand': 'Tata',\n",
              "  'expiry': '23 jun 2023',\n",
              "  'name': 'Turmeric Powder',\n",
              "  'price': 52,\n",
              "  'quan': 122},\n",
              " 1005: {'brand': 'Quaker',\n",
              "  'expiry': '30 oct 2022',\n",
              "  'name': 'Quaker Oats',\n",
              "  'price': 285,\n",
              "  'quan': 30},\n",
              " 1006: {'brand': 'Saffola',\n",
              "  'expiry': '29 jan 2022',\n",
              "  'name': 'Saffola Active',\n",
              "  'price': 207,\n",
              "  'quan': 58},\n",
              " 1007: {'brand': 'Nestle',\n",
              "  'expiry': '31 aug 2022',\n",
              "  'name': 'Kitkat Desert',\n",
              "  'price': 55,\n",
              "  'quan': 59},\n",
              " 1008: {'brand': 'Dark Fantasy',\n",
              "  'expiry': '21 feb 2022',\n",
              "  'name': 'Dark Fantasy Choco Fills',\n",
              "  'price': 90,\n",
              "  'quan': 90},\n",
              " 1009: {'brand': 'Candyman Fantastik',\n",
              "  'expiry': '28 dec 2021',\n",
              "  'name': 'Candyman Fantasy',\n",
              "  'price': 80,\n",
              "  'quan': 50},\n",
              " 1010: {'brand': 'Lotte',\n",
              "  'expiry': '01 jun 2022',\n",
              "  'name': 'Lotte Choco Pie',\n",
              "  'price': 110,\n",
              "  'quan': 95},\n",
              " 1011: {'brand': 'Britania',\n",
              "  'expiry': '15 jul 2022',\n",
              "  'name': 'Britania Chocolate cake',\n",
              "  'price': 120,\n",
              "  'quan': 100},\n",
              " 1012: {'brand': 'Pillsbury',\n",
              "  'expiry': '02 dec 2021',\n",
              "  'name': 'Pillsbury cookes cake',\n",
              "  'price': 90,\n",
              "  'quan': 200},\n",
              " 1013: {'brand': 'Ore0',\n",
              "  'expiry': '30 dec 2021',\n",
              "  'name': 'Kraft Oreo Soft Cake',\n",
              "  'price': 249,\n",
              "  'quan': 120},\n",
              " 1014: {'brand': 'Sunfeast',\n",
              "  'expiry': '19 mar 2022',\n",
              "  'name': \"Mom's Magic Cashew\",\n",
              "  'price': 80,\n",
              "  'quan': 180},\n",
              " 1015: {'brand': 'Cadbury',\n",
              "  'expiry': '19 feb 2022',\n",
              "  'name': 'Cadbury Oreo chacolate',\n",
              "  'price': 60,\n",
              "  'quan': 185},\n",
              " 1016: {'brand': 'Betty Croker',\n",
              "  'expiry': '15 jan 2022',\n",
              "  'name': 'Betty Croker Pancake',\n",
              "  'price': 346,\n",
              "  'quan': 190},\n",
              " 1017: {'brand': 'Parle',\n",
              "  'expiry': '13 dec 2011',\n",
              "  'name': 'Parle G Original',\n",
              "  'price': 67,\n",
              "  'quan': 140},\n",
              " 1018: {'brand': \"Lay's\",\n",
              "  'expiry': '14 feb 2023',\n",
              "  'name': 'Lays Potato Chips',\n",
              "  'price': 30,\n",
              "  'quan': 450},\n",
              " 1019: {'brand': 'Bingo!',\n",
              "  'expiry': '20 dec 2023',\n",
              "  'name': 'Bingo! Mad Angle',\n",
              "  'price': 25,\n",
              "  'quan': 440},\n",
              " 1020: {'brand': \"Kellog's\",\n",
              "  'expiry': '25 jan 2024',\n",
              "  'name': \"Kellogg's pringles\",\n",
              "  'price': 85,\n",
              "  'quan': 400},\n",
              " 1021: {'brand': \"Dorito's\",\n",
              "  'expiry': '22 jan 2023',\n",
              "  'name': \"Dorito's Nacho Chips\",\n",
              "  'price': 90,\n",
              "  'quan': 360},\n",
              " 1022: {'brand': 'Thums Up',\n",
              "  'expiry': '20 dec 2024',\n",
              "  'name': 'Thums Up Soft Drink',\n",
              "  'price': 40,\n",
              "  'quan': 60},\n",
              " 1023: {'brand': 'Svami',\n",
              "  'expiry': '20 jun 2023',\n",
              "  'name': 'Svami Soda Water',\n",
              "  'price': 55,\n",
              "  'quan': 70},\n",
              " 1024: {'brand': 'Coca Cola',\n",
              "  'expiry': '22 jul 2023',\n",
              "  'name': 'Coca-Cola',\n",
              "  'price': 65,\n",
              "  'quan': 60},\n",
              " 1025: {'brand': 'Sprite',\n",
              "  'expiry': '20 nov 2023',\n",
              "  'name': 'Sprite Lime Flavor',\n",
              "  'price': 89,\n",
              "  'quan': 40},\n",
              " 1026: {'brand': 'Colgate',\n",
              "  'expiry': '20 jun 2024',\n",
              "  'name': 'Colgate Maxfresh',\n",
              "  'price': 215,\n",
              "  'quan': 55},\n",
              " 1027: {'brand': 'Pepsodent',\n",
              "  'expiry': '15 jul 2022',\n",
              "  'name': 'Pepsodent Gum Care',\n",
              "  'price': 300,\n",
              "  'quan': 150},\n",
              " 1028: {'brand': 'DABUR',\n",
              "  'expiry': '10 aug 2024',\n",
              "  'name': 'Dabur Amla Hair Oil',\n",
              "  'price': 247,\n",
              "  'quan': 100},\n",
              " 1029: {'brand': 'Nivea',\n",
              "  'expiry': '31 jul 2022',\n",
              "  'name': 'Nivea Men Face Wash',\n",
              "  'price': 149,\n",
              "  'quan': 98},\n",
              " 1030: {'brand': 'Himalaya',\n",
              "  'expiry': '22 may 2022',\n",
              "  'name': 'Himalaya Herbal Face wash',\n",
              "  'price': 104,\n",
              "  'quan': 200},\n",
              " 1031: {'brand': 'Himalaya',\n",
              "  'expiry': '31 may 2024',\n",
              "  'name': 'Himalaya Baby Powder',\n",
              "  'price': 243,\n",
              "  'quan': 150},\n",
              " 1032: {'brand': 'Nivea',\n",
              "  'expiry': '31 may 2024',\n",
              "  'name': 'Nivea Talcum Powder',\n",
              "  'price': 199,\n",
              "  'quan': 120},\n",
              " 1033: {'brand': 'FOGG',\n",
              "  'expiry': '01 jan 2024',\n",
              "  'name': 'Fogg Xtremo Scent',\n",
              "  'price': 299,\n",
              "  'quan': 155},\n",
              " 1034: {'brand': 'Villian',\n",
              "  'expiry': '31 may 2024',\n",
              "  'name': 'Villain Perfume men',\n",
              "  'price': 555,\n",
              "  'quan': 230},\n",
              " 1035: {'brand': 'Cadbury',\n",
              "  'expiry': '31 jan 2022',\n",
              "  'name': 'Dairy Milk Silk',\n",
              "  'price': 475,\n",
              "  'quan': 50}}"
            ]
          },
          "metadata": {},
          "execution_count": 20
        }
      ]
    },
    {
      "cell_type": "code",
      "metadata": {
        "colab": {
          "base_uri": "https://localhost:8080/"
        },
        "id": "yLjUCb4IaX1N",
        "outputId": "8cbeadeb-bee6-47ff-e8b5-f275b10a8562"
      },
      "source": [
        "item_details= 1021\n",
        "print(best_store[item_details]['name'])\n",
        "print(best_store[item_details]['price'])\n",
        "print(best_store[item_details]['quan'])\n",
        "print(best_store[item_details]['expiry'])\n",
        "print(best_store[item_details]['brand'])"
      ],
      "execution_count": 21,
      "outputs": [
        {
          "output_type": "stream",
          "name": "stdout",
          "text": [
            "Dorito's Nacho Chips\n",
            "90\n",
            "360\n",
            "22 jan 2023\n",
            "Dorito's\n"
          ]
        }
      ]
    },
    {
      "cell_type": "code",
      "metadata": {
        "colab": {
          "base_uri": "https://localhost:8080/"
        },
        "id": "phLHQVbpa0Va",
        "outputId": "277dbe44-3a8a-4e83-efe6-f43c2e8d2b9d"
      },
      "source": [
        "len(best_store)"
      ],
      "execution_count": 22,
      "outputs": [
        {
          "output_type": "execute_result",
          "data": {
            "text/plain": [
              "35"
            ]
          },
          "metadata": {},
          "execution_count": 22
        }
      ]
    },
    {
      "cell_type": "code",
      "metadata": {
        "id": "jGFoiSiba8jr"
      },
      "source": [
        "best_store[1002]['quan'] = best_store[1002]['quan'] - 55"
      ],
      "execution_count": 24,
      "outputs": []
    },
    {
      "cell_type": "code",
      "metadata": {
        "colab": {
          "base_uri": "https://localhost:8080/"
        },
        "id": "V8PR7k9BbM4t",
        "outputId": "f757f370-0366-4940-d958-37418dff73f9"
      },
      "source": [
        "best_store[1002]['quan']"
      ],
      "execution_count": 25,
      "outputs": [
        {
          "output_type": "execute_result",
          "data": {
            "text/plain": [
              "75"
            ]
          },
          "metadata": {},
          "execution_count": 25
        }
      ]
    },
    {
      "cell_type": "code",
      "metadata": {
        "id": "xJU-ZhbEbPJx"
      },
      "source": [
        "best_store[1018]['quan'] = best_store[1018]['quan'] - 150"
      ],
      "execution_count": 26,
      "outputs": []
    },
    {
      "cell_type": "code",
      "metadata": {
        "colab": {
          "base_uri": "https://localhost:8080/"
        },
        "id": "jE0Ui6x3bi-3",
        "outputId": "54816994-6a25-46d7-f805-f87f13122a9a"
      },
      "source": [
        "best_store[1018]['quan']"
      ],
      "execution_count": 27,
      "outputs": [
        {
          "output_type": "execute_result",
          "data": {
            "text/plain": [
              "300"
            ]
          },
          "metadata": {},
          "execution_count": 27
        }
      ]
    },
    {
      "cell_type": "code",
      "metadata": {
        "id": "RiN4cXWCblbH"
      },
      "source": [
        "best_store[1032]['quan'] = best_store[1032]['quan'] - 40"
      ],
      "execution_count": 28,
      "outputs": []
    },
    {
      "cell_type": "code",
      "metadata": {
        "colab": {
          "base_uri": "https://localhost:8080/"
        },
        "id": "WcDAvDxMbvKe",
        "outputId": "10b9fc24-cd0e-47b9-9560-4805433e61c1"
      },
      "source": [
        "best_store[1032]['quan']"
      ],
      "execution_count": 29,
      "outputs": [
        {
          "output_type": "execute_result",
          "data": {
            "text/plain": [
              "80"
            ]
          },
          "metadata": {},
          "execution_count": 29
        }
      ]
    },
    {
      "cell_type": "code",
      "metadata": {
        "colab": {
          "base_uri": "https://localhost:8080/"
        },
        "id": "oemCbAyebxg6",
        "outputId": "063c639f-328e-47aa-c313-6bd7e1a93f3e"
      },
      "source": [
        "best_store"
      ],
      "execution_count": 30,
      "outputs": [
        {
          "output_type": "execute_result",
          "data": {
            "text/plain": [
              "{1001: {'brand': 'Pepsi',\n",
              "  'expiry': '20 oct 2023',\n",
              "  'name': 'Pepsi Can',\n",
              "  'price': 153,\n",
              "  'quan': 50},\n",
              " 1002: {'brand': 'Tata',\n",
              "  'expiry': '12 jan 2022',\n",
              "  'name': 'Tata Salt',\n",
              "  'price': 20,\n",
              "  'quan': 75},\n",
              " 1003: {'brand': 'Tata',\n",
              "  'expiry': '10 mar 2023',\n",
              "  'name': 'Tata Tea Gold',\n",
              "  'price': 48,\n",
              "  'quan': 145},\n",
              " 1004: {'brand': 'Tata',\n",
              "  'expiry': '23 jun 2023',\n",
              "  'name': 'Turmeric Powder',\n",
              "  'price': 52,\n",
              "  'quan': 122},\n",
              " 1005: {'brand': 'Quaker',\n",
              "  'expiry': '30 oct 2022',\n",
              "  'name': 'Quaker Oats',\n",
              "  'price': 285,\n",
              "  'quan': 30},\n",
              " 1006: {'brand': 'Saffola',\n",
              "  'expiry': '29 jan 2022',\n",
              "  'name': 'Saffola Active',\n",
              "  'price': 207,\n",
              "  'quan': 58},\n",
              " 1007: {'brand': 'Nestle',\n",
              "  'expiry': '31 aug 2022',\n",
              "  'name': 'Kitkat Desert',\n",
              "  'price': 55,\n",
              "  'quan': 59},\n",
              " 1008: {'brand': 'Dark Fantasy',\n",
              "  'expiry': '21 feb 2022',\n",
              "  'name': 'Dark Fantasy Choco Fills',\n",
              "  'price': 90,\n",
              "  'quan': 90},\n",
              " 1009: {'brand': 'Candyman Fantastik',\n",
              "  'expiry': '28 dec 2021',\n",
              "  'name': 'Candyman Fantasy',\n",
              "  'price': 80,\n",
              "  'quan': 50},\n",
              " 1010: {'brand': 'Lotte',\n",
              "  'expiry': '01 jun 2022',\n",
              "  'name': 'Lotte Choco Pie',\n",
              "  'price': 110,\n",
              "  'quan': 95},\n",
              " 1011: {'brand': 'Britania',\n",
              "  'expiry': '15 jul 2022',\n",
              "  'name': 'Britania Chocolate cake',\n",
              "  'price': 120,\n",
              "  'quan': 100},\n",
              " 1012: {'brand': 'Pillsbury',\n",
              "  'expiry': '02 dec 2021',\n",
              "  'name': 'Pillsbury cookes cake',\n",
              "  'price': 90,\n",
              "  'quan': 200},\n",
              " 1013: {'brand': 'Ore0',\n",
              "  'expiry': '30 dec 2021',\n",
              "  'name': 'Kraft Oreo Soft Cake',\n",
              "  'price': 249,\n",
              "  'quan': 120},\n",
              " 1014: {'brand': 'Sunfeast',\n",
              "  'expiry': '19 mar 2022',\n",
              "  'name': \"Mom's Magic Cashew\",\n",
              "  'price': 80,\n",
              "  'quan': 180},\n",
              " 1015: {'brand': 'Cadbury',\n",
              "  'expiry': '19 feb 2022',\n",
              "  'name': 'Cadbury Oreo chacolate',\n",
              "  'price': 60,\n",
              "  'quan': 185},\n",
              " 1016: {'brand': 'Betty Croker',\n",
              "  'expiry': '15 jan 2022',\n",
              "  'name': 'Betty Croker Pancake',\n",
              "  'price': 346,\n",
              "  'quan': 190},\n",
              " 1017: {'brand': 'Parle',\n",
              "  'expiry': '13 dec 2011',\n",
              "  'name': 'Parle G Original',\n",
              "  'price': 67,\n",
              "  'quan': 140},\n",
              " 1018: {'brand': \"Lay's\",\n",
              "  'expiry': '14 feb 2023',\n",
              "  'name': 'Lays Potato Chips',\n",
              "  'price': 30,\n",
              "  'quan': 300},\n",
              " 1019: {'brand': 'Bingo!',\n",
              "  'expiry': '20 dec 2023',\n",
              "  'name': 'Bingo! Mad Angle',\n",
              "  'price': 25,\n",
              "  'quan': 440},\n",
              " 1020: {'brand': \"Kellog's\",\n",
              "  'expiry': '25 jan 2024',\n",
              "  'name': \"Kellogg's pringles\",\n",
              "  'price': 85,\n",
              "  'quan': 400},\n",
              " 1021: {'brand': \"Dorito's\",\n",
              "  'expiry': '22 jan 2023',\n",
              "  'name': \"Dorito's Nacho Chips\",\n",
              "  'price': 90,\n",
              "  'quan': 360},\n",
              " 1022: {'brand': 'Thums Up',\n",
              "  'expiry': '20 dec 2024',\n",
              "  'name': 'Thums Up Soft Drink',\n",
              "  'price': 40,\n",
              "  'quan': 60},\n",
              " 1023: {'brand': 'Svami',\n",
              "  'expiry': '20 jun 2023',\n",
              "  'name': 'Svami Soda Water',\n",
              "  'price': 55,\n",
              "  'quan': 70},\n",
              " 1024: {'brand': 'Coca Cola',\n",
              "  'expiry': '22 jul 2023',\n",
              "  'name': 'Coca-Cola',\n",
              "  'price': 65,\n",
              "  'quan': 60},\n",
              " 1025: {'brand': 'Sprite',\n",
              "  'expiry': '20 nov 2023',\n",
              "  'name': 'Sprite Lime Flavor',\n",
              "  'price': 89,\n",
              "  'quan': 40},\n",
              " 1026: {'brand': 'Colgate',\n",
              "  'expiry': '20 jun 2024',\n",
              "  'name': 'Colgate Maxfresh',\n",
              "  'price': 215,\n",
              "  'quan': 55},\n",
              " 1027: {'brand': 'Pepsodent',\n",
              "  'expiry': '15 jul 2022',\n",
              "  'name': 'Pepsodent Gum Care',\n",
              "  'price': 300,\n",
              "  'quan': 150},\n",
              " 1028: {'brand': 'DABUR',\n",
              "  'expiry': '10 aug 2024',\n",
              "  'name': 'Dabur Amla Hair Oil',\n",
              "  'price': 247,\n",
              "  'quan': 100},\n",
              " 1029: {'brand': 'Nivea',\n",
              "  'expiry': '31 jul 2022',\n",
              "  'name': 'Nivea Men Face Wash',\n",
              "  'price': 149,\n",
              "  'quan': 98},\n",
              " 1030: {'brand': 'Himalaya',\n",
              "  'expiry': '22 may 2022',\n",
              "  'name': 'Himalaya Herbal Face wash',\n",
              "  'price': 104,\n",
              "  'quan': 200},\n",
              " 1031: {'brand': 'Himalaya',\n",
              "  'expiry': '31 may 2024',\n",
              "  'name': 'Himalaya Baby Powder',\n",
              "  'price': 243,\n",
              "  'quan': 150},\n",
              " 1032: {'brand': 'Nivea',\n",
              "  'expiry': '31 may 2024',\n",
              "  'name': 'Nivea Talcum Powder',\n",
              "  'price': 199,\n",
              "  'quan': 80},\n",
              " 1033: {'brand': 'FOGG',\n",
              "  'expiry': '01 jan 2024',\n",
              "  'name': 'Fogg Xtremo Scent',\n",
              "  'price': 299,\n",
              "  'quan': 155},\n",
              " 1034: {'brand': 'Villian',\n",
              "  'expiry': '31 may 2024',\n",
              "  'name': 'Villain Perfume men',\n",
              "  'price': 555,\n",
              "  'quan': 230},\n",
              " 1035: {'brand': 'Cadbury',\n",
              "  'expiry': '31 jan 2022',\n",
              "  'name': 'Dairy Milk Silk',\n",
              "  'price': 475,\n",
              "  'quan': 50}}"
            ]
          },
          "metadata": {},
          "execution_count": 30
        }
      ]
    },
    {
      "cell_type": "code",
      "metadata": {
        "colab": {
          "base_uri": "https://localhost:8080/"
        },
        "id": "l1IKJiY3b2jD",
        "outputId": "e135eff4-808b-4464-8f17-01694217a6e2"
      },
      "source": [
        "prod_id = input(\"Enter the Product ID: \")\n",
        "name = input(\"Enter the Name of the Product: \")\n",
        "price = int(input(\"Enter the price per Item: \"))\n",
        "quan = int(input(\"Enter The Quantity of the Product you want to add: \"))\n",
        "expiry = input(\"Enter the expiry date of the Product: \")\n",
        "brand = input(\"Enter the Brand of the product: \")\n",
        "\n",
        "best_store[prod_id] = {\"name\":name,\"price\":price,\"quan\":quan,\"expiry\":expiry,\"brand\":brand}\n",
        "\n",
        "js = json.dumps(best_store)\n",
        "\n",
        "fd = open(\"best_store.json\",\"w\")\n",
        "fd.write(js)\n",
        "fd.close()"
      ],
      "execution_count": 33,
      "outputs": [
        {
          "name": "stdout",
          "output_type": "stream",
          "text": [
            "Enter the Product ID: 1036\n",
            "Enter the Name of the Product: Denver Perfume\n",
            "Enter the price per Item: 210\n",
            "Enter The Quantity of the Product you want to add: 150\n",
            "Enter the expiry date of the Product: 10 may 2028\n",
            "Enter the Brand of the product: Denver\n"
          ]
        }
      ]
    },
    {
      "cell_type": "code",
      "metadata": {
        "colab": {
          "base_uri": "https://localhost:8080/"
        },
        "id": "j4WX4wpWczCC",
        "outputId": "7d3daf0b-fc3b-46c5-b4e4-a9a0fd9d0874"
      },
      "source": [
        "best_store"
      ],
      "execution_count": 34,
      "outputs": [
        {
          "output_type": "execute_result",
          "data": {
            "text/plain": [
              "{1001: {'brand': 'Pepsi',\n",
              "  'expiry': '20 oct 2023',\n",
              "  'name': 'Pepsi Can',\n",
              "  'price': 153,\n",
              "  'quan': 50},\n",
              " 1002: {'brand': 'Tata',\n",
              "  'expiry': '12 jan 2022',\n",
              "  'name': 'Tata Salt',\n",
              "  'price': 20,\n",
              "  'quan': 75},\n",
              " 1003: {'brand': 'Tata',\n",
              "  'expiry': '10 mar 2023',\n",
              "  'name': 'Tata Tea Gold',\n",
              "  'price': 48,\n",
              "  'quan': 145},\n",
              " 1004: {'brand': 'Tata',\n",
              "  'expiry': '23 jun 2023',\n",
              "  'name': 'Turmeric Powder',\n",
              "  'price': 52,\n",
              "  'quan': 122},\n",
              " 1005: {'brand': 'Quaker',\n",
              "  'expiry': '30 oct 2022',\n",
              "  'name': 'Quaker Oats',\n",
              "  'price': 285,\n",
              "  'quan': 30},\n",
              " 1006: {'brand': 'Saffola',\n",
              "  'expiry': '29 jan 2022',\n",
              "  'name': 'Saffola Active',\n",
              "  'price': 207,\n",
              "  'quan': 58},\n",
              " 1007: {'brand': 'Nestle',\n",
              "  'expiry': '31 aug 2022',\n",
              "  'name': 'Kitkat Desert',\n",
              "  'price': 55,\n",
              "  'quan': 59},\n",
              " 1008: {'brand': 'Dark Fantasy',\n",
              "  'expiry': '21 feb 2022',\n",
              "  'name': 'Dark Fantasy Choco Fills',\n",
              "  'price': 90,\n",
              "  'quan': 90},\n",
              " 1009: {'brand': 'Candyman Fantastik',\n",
              "  'expiry': '28 dec 2021',\n",
              "  'name': 'Candyman Fantasy',\n",
              "  'price': 80,\n",
              "  'quan': 50},\n",
              " 1010: {'brand': 'Lotte',\n",
              "  'expiry': '01 jun 2022',\n",
              "  'name': 'Lotte Choco Pie',\n",
              "  'price': 110,\n",
              "  'quan': 95},\n",
              " 1011: {'brand': 'Britania',\n",
              "  'expiry': '15 jul 2022',\n",
              "  'name': 'Britania Chocolate cake',\n",
              "  'price': 120,\n",
              "  'quan': 100},\n",
              " 1012: {'brand': 'Pillsbury',\n",
              "  'expiry': '02 dec 2021',\n",
              "  'name': 'Pillsbury cookes cake',\n",
              "  'price': 90,\n",
              "  'quan': 200},\n",
              " 1013: {'brand': 'Ore0',\n",
              "  'expiry': '30 dec 2021',\n",
              "  'name': 'Kraft Oreo Soft Cake',\n",
              "  'price': 249,\n",
              "  'quan': 120},\n",
              " 1014: {'brand': 'Sunfeast',\n",
              "  'expiry': '19 mar 2022',\n",
              "  'name': \"Mom's Magic Cashew\",\n",
              "  'price': 80,\n",
              "  'quan': 180},\n",
              " 1015: {'brand': 'Cadbury',\n",
              "  'expiry': '19 feb 2022',\n",
              "  'name': 'Cadbury Oreo chacolate',\n",
              "  'price': 60,\n",
              "  'quan': 185},\n",
              " 1016: {'brand': 'Betty Croker',\n",
              "  'expiry': '15 jan 2022',\n",
              "  'name': 'Betty Croker Pancake',\n",
              "  'price': 346,\n",
              "  'quan': 190},\n",
              " 1017: {'brand': 'Parle',\n",
              "  'expiry': '13 dec 2011',\n",
              "  'name': 'Parle G Original',\n",
              "  'price': 67,\n",
              "  'quan': 140},\n",
              " 1018: {'brand': \"Lay's\",\n",
              "  'expiry': '14 feb 2023',\n",
              "  'name': 'Lays Potato Chips',\n",
              "  'price': 30,\n",
              "  'quan': 300},\n",
              " 1019: {'brand': 'Bingo!',\n",
              "  'expiry': '20 dec 2023',\n",
              "  'name': 'Bingo! Mad Angle',\n",
              "  'price': 25,\n",
              "  'quan': 440},\n",
              " 1020: {'brand': \"Kellog's\",\n",
              "  'expiry': '25 jan 2024',\n",
              "  'name': \"Kellogg's pringles\",\n",
              "  'price': 85,\n",
              "  'quan': 400},\n",
              " 1021: {'brand': \"Dorito's\",\n",
              "  'expiry': '22 jan 2023',\n",
              "  'name': \"Dorito's Nacho Chips\",\n",
              "  'price': 90,\n",
              "  'quan': 360},\n",
              " 1022: {'brand': 'Thums Up',\n",
              "  'expiry': '20 dec 2024',\n",
              "  'name': 'Thums Up Soft Drink',\n",
              "  'price': 40,\n",
              "  'quan': 60},\n",
              " 1023: {'brand': 'Svami',\n",
              "  'expiry': '20 jun 2023',\n",
              "  'name': 'Svami Soda Water',\n",
              "  'price': 55,\n",
              "  'quan': 70},\n",
              " 1024: {'brand': 'Coca Cola',\n",
              "  'expiry': '22 jul 2023',\n",
              "  'name': 'Coca-Cola',\n",
              "  'price': 65,\n",
              "  'quan': 60},\n",
              " 1025: {'brand': 'Sprite',\n",
              "  'expiry': '20 nov 2023',\n",
              "  'name': 'Sprite Lime Flavor',\n",
              "  'price': 89,\n",
              "  'quan': 40},\n",
              " 1026: {'brand': 'Colgate',\n",
              "  'expiry': '20 jun 2024',\n",
              "  'name': 'Colgate Maxfresh',\n",
              "  'price': 215,\n",
              "  'quan': 55},\n",
              " 1027: {'brand': 'Pepsodent',\n",
              "  'expiry': '15 jul 2022',\n",
              "  'name': 'Pepsodent Gum Care',\n",
              "  'price': 300,\n",
              "  'quan': 150},\n",
              " 1028: {'brand': 'DABUR',\n",
              "  'expiry': '10 aug 2024',\n",
              "  'name': 'Dabur Amla Hair Oil',\n",
              "  'price': 247,\n",
              "  'quan': 100},\n",
              " 1029: {'brand': 'Nivea',\n",
              "  'expiry': '31 jul 2022',\n",
              "  'name': 'Nivea Men Face Wash',\n",
              "  'price': 149,\n",
              "  'quan': 98},\n",
              " 1030: {'brand': 'Himalaya',\n",
              "  'expiry': '22 may 2022',\n",
              "  'name': 'Himalaya Herbal Face wash',\n",
              "  'price': 104,\n",
              "  'quan': 200},\n",
              " 1031: {'brand': 'Himalaya',\n",
              "  'expiry': '31 may 2024',\n",
              "  'name': 'Himalaya Baby Powder',\n",
              "  'price': 243,\n",
              "  'quan': 150},\n",
              " 1032: {'brand': 'Nivea',\n",
              "  'expiry': '31 may 2024',\n",
              "  'name': 'Nivea Talcum Powder',\n",
              "  'price': 199,\n",
              "  'quan': 80},\n",
              " 1033: {'brand': 'FOGG',\n",
              "  'expiry': '01 jan 2024',\n",
              "  'name': 'Fogg Xtremo Scent',\n",
              "  'price': 299,\n",
              "  'quan': 155},\n",
              " 1034: {'brand': 'Villian',\n",
              "  'expiry': '31 may 2024',\n",
              "  'name': 'Villain Perfume men',\n",
              "  'price': 555,\n",
              "  'quan': 230},\n",
              " 1035: {'brand': 'Cadbury',\n",
              "  'expiry': '31 jan 2022',\n",
              "  'name': 'Dairy Milk Silk',\n",
              "  'price': 475,\n",
              "  'quan': 50},\n",
              " '1036': {'brand': 'Denver',\n",
              "  'expiry': '10 may 2028',\n",
              "  'name': 'Denver Perfume',\n",
              "  'price': 210,\n",
              "  'quan': 150}}"
            ]
          },
          "metadata": {},
          "execution_count": 34
        }
      ]
    },
    {
      "cell_type": "code",
      "metadata": {
        "colab": {
          "base_uri": "https://localhost:8080/"
        },
        "id": "Ggr0WwZzc3th",
        "outputId": "6c606518-f1b9-471f-e011-4286ec1d15fa"
      },
      "source": [
        "len(best_store)"
      ],
      "execution_count": 35,
      "outputs": [
        {
          "output_type": "execute_result",
          "data": {
            "text/plain": [
              "36"
            ]
          },
          "metadata": {},
          "execution_count": 35
        }
      ]
    },
    {
      "cell_type": "code",
      "metadata": {
        "id": "pn0uNEI0c77g"
      },
      "source": [
        ""
      ],
      "execution_count": null,
      "outputs": []
    }
  ]
}